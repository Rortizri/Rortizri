{
 "cells": [
  {
   "cell_type": "markdown",
   "metadata": {},
   "source": [
    "# Exercise 1: Linear regression and gradient descent"
   ]
  },
  {
   "cell_type": "code",
   "execution_count": 1,
   "metadata": {},
   "outputs": [],
   "source": [
    "import numpy as np\n",
    "n = 50 # Number of observations\n",
    "x = np.random.uniform(0, 10, n) # draws from a U[0,10]\n",
    "epsilon = np.random.normal(0, 2, n) # draws from a Normal with zero mean and variance 4\n",
    "y = 3*x-2 + epsilon"
   ]
  },
  {
   "cell_type": "code",
   "execution_count": 2,
   "metadata": {},
   "outputs": [
    {
     "data": {
      "text/plain": [
       "Text(0.5, 1.0, 'y as a function of x')"
      ]
     },
     "execution_count": 2,
     "metadata": {},
     "output_type": "execute_result"
    },
    {
     "data": {
      "image/png": "[encoded data removed]",
      "text/plain": [
       "<Figure size 432x288 with 1 Axes>"
      ]
     },
     "metadata": {
      "needs_background": "light"
     },
     "output_type": "display_data"
    }
   ],
   "source": [
    "import matplotlib.pyplot as plt\n",
    "\n",
    "plt.scatter(x, y)\n",
    "plt.xlabel(\"x\")\n",
    "plt.ylabel(\"y\")\n",
    "plt.title(\"y as a function of x\")"
   ]
  },
  {
   "cell_type": "code",
   "execution_count": 3,
   "metadata": {},
   "outputs": [],
   "source": [
    "alpha = [0]\n",
    "beta = [1]"
   ]
  },
  {
   "cell_type": "markdown",
   "metadata": {},
   "source": [
    "The loss functions writes:\n",
    "\n",
    "$L(\\theta) = \\frac{1}{n} \\sum_{i=1}^{n}\\left(y_i-\\hat{y}_i\\right)^2$\n",
    "\n",
    "- The firt derivative of the loss function with respect to $\\alpha$ writes:\n",
    "\n",
    "    $\\frac{\\partial L}{\\partial \\hat\\alpha} = -\\frac{2}{n} \\sum_{i=1}^{n} x_i (y_i-\\hat{y}_i)$\n",
    "\n",
    "- The firt derivative of the loss function with respect to $\\beta$ writes:\n",
    "\n",
    "    $\\frac{\\partial L}{\\partial \\hat\\beta} = -\\frac{2}{n} \\sum_{i=1}^{n} (y_i-\\hat{y}_i)$"
   ]
  },
  {
   "cell_type": "code",
   "execution_count": 4,
   "metadata": {},
   "outputs": [],
   "source": [
    "learning_rate = 10**(-4)\n",
    "MSE = [np.mean((y - (alpha * x + beta))**2)]\n",
    "tolerance =10**(-5)\n",
    "\n",
    "for i in range(0, 10000+1):\n",
    "    # Predicted values\n",
    "    y_hat = alpha[i] * x + beta[i]\n",
    "    # Residuals\n",
    "    residuals = y - y_hat\n",
    "    # Derivative of the loss function wrt alpha\n",
    "    derivative_alpha = -2/n * sum(x * (y - y_hat))\n",
    "    # Derivative of the loss function wrt beta\n",
    "    derivative_beta = -2/n * sum(y - y_hat)\n",
    "    \n",
    "    # Updating the values of the coefficients\n",
    "    new_alpha = alpha[i] - learning_rate * derivative_alpha\n",
    "    new_beta = beta[i] - learning_rate * derivative_beta\n",
    "    \n",
    "    # Storing the new values\n",
    "    alpha.append(new_alpha)\n",
    "    beta.append(new_beta)\n",
    "    \n",
    "    # Computing the Mean Squared Error\n",
    "    MSE_new = np.mean(residuals**2)\n",
    "    \n",
    "    if i>0:\n",
    "        if abs(MSE_new - MSE[i]) < tolerance:\n",
    "         break   \n",
    "        \n",
    "\n",
    "    MSE.append(MSE_new)"
   ]
  },
  {
   "cell_type": "code",
   "execution_count": 5,
   "metadata": {},
   "outputs": [
    {
     "name": "stdout",
     "output_type": "stream",
     "text": [
      "2.7554153408471844 -0.32133494312438143\n"
     ]
    },
    {
     "data": {
      "text/plain": [
       "[<matplotlib.lines.Line2D at 0x11aa50810>]"
      ]
     },
     "execution_count": 5,
     "metadata": {},
     "output_type": "execute_result"
    },
    {
     "data": {
      "image/png": "[encoded data removed]",
      "text/plain": [
       "<Figure size 432x288 with 1 Axes>"
      ]
     },
     "metadata": {
      "needs_background": "light"
     },
     "output_type": "display_data"
    }
   ],
   "source": [
    "print(alpha[i], beta[i])\n",
    "plt.plot(MSE)"
   ]
  }
 ],
 "metadata": {
  "kernelspec": {
   "display_name": "Python 3",
   "language": "python",
   "name": "python3"
  },
  "language_info": {
   "codemirror_mode": {
    "name": "ipython",
    "version": 3
   },
   "file_extension": ".py",
   "mimetype": "text/x-python",
   "name": "python",
   "nbconvert_exporter": "python",
   "pygments_lexer": "ipython3",
   "version": "3.8.8"
  }
 },
 "nbformat": 4,
 "nbformat_minor": 4
}
